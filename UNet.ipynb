{
 "cells": [
  {
   "cell_type": "markdown",
   "metadata": {},
   "source": [
    "# Image segmentation (with U-Nets)\n"
   ]
  },
  {
   "cell_type": "code",
   "execution_count": 105,
   "metadata": {},
   "outputs": [],
   "source": [
    "import torch\n",
    "import torch.nn as nn\n",
    "import torchvision\n",
    "import torchvision.transforms as transforms\n",
    "import torch.nn.functional as F\n",
    "import torch.optim as optim\n"
   ]
  },
  {
   "cell_type": "markdown",
   "metadata": {},
   "source": [
    "## U-Net Architecture\n",
    "![architecture](.\\architecture.png \"UNet architecture\")\n",
    "\n",
    "### Contracting Path\n",
    "It consits of 4 blocks and every block has the same architecture (typical architecture of a concolutional network)\n",
    "1. Two 3x3 unpadded convolutions each followed by a rectified linear unit\n",
    "    - because its is unpadded we loss with every convolution 2 pixels in each dimension\n",
    "2. 2x2 max pooling operations with stride 2\n",
    "    - with this setting the image get downsampled by a factor of 2\n",
    "\n",
    "They start with 64 feature channels (filters) at the first block and with each block they double the number of feature channels\n",
    "\n",
    "The output of the last block will be sended through two convoltuion layers (3x3) each followed by a ReLU, because of the doubling of the feature channels the resulting feature map for each layer is 1024 dimensional.\n",
    "\n",
    "### Expansive Path\n",
    "Its symetric to the contracting path, so again 4 blocks. However the architecture changes slightly\n",
    "1. Upsampling by a 2x2 up-convolution (that halves the number of feature channels)\n",
    "2. Copy a cropped version of the feature map from the corresponding feature map of the contracting path and concatenate with the upsampled feature map\n",
    "    - The cropping is necessary due to the loss of border pixels in every convolution\n",
    "3. Two 3x3 unpadded convolutions each followed by a rectified linear unit\n",
    "\n",
    "At the final layer a 1x1 convolution is used to map each 64-component feature vector to the desired number of classes (in our case 2 classes). \n",
    "\n",
    "In total the network has 23 convolutional layers. (2\\*4 (Contracting Path) + 2 (last layer) + 3\\*4 (Expansive Path) + 1 (final layer))"
   ]
  },
  {
   "cell_type": "code",
   "execution_count": 2,
   "metadata": {},
   "outputs": [],
   "source": [
    "# because 18 of the 23 convolutional layers uses the same setting, we defined a own function for this\n",
    "def conv3x3(_input, output):\n",
    "    return nn.Conv2d(_input, output, 3, padding=1)\n",
    "\n",
    "\n",
    "# define block of contracting path\n",
    "class ContractingBlock(nn.Module):\n",
    "    def __init__(self,in_channels,channels):\n",
    "        super(ContractingBlock, self).__init__()\n",
    "        # for the first conv layer the number of input channels are the number of channels form the previous block and they will be doubled (first block starts with 64) \n",
    "        self.conv1 = conv3x3(in_channels,channels)\n",
    "        self.conv2 = conv3x3(channels,channels)\n",
    "        self.relu = nn.ReLU(inplace=True)\n",
    "        self.downsample_block = nn.MaxPool2d(kernel_size=2, stride=2)\n",
    "        \n",
    "    def forward(self, x, isInitBlock = 0):\n",
    "        if not isInitBlock:\n",
    "            x = self.downsample_block(x)\n",
    "        \n",
    "        x = self.conv1(x)\n",
    "        x = self.relu(x)\n",
    "        x = self.conv2(x)\n",
    "        x = self.relu(x)\n",
    "        print(x.size())\n",
    "        \n",
    "        return x\n",
    "\n",
    "# define block of expansive path\n",
    "class ExpansiveBlock(nn.Module):\n",
    "    def __init__(self, in_channels, channels):\n",
    "        super(ExpansiveBlock, self).__init__()\n",
    "        self.upsampled = nn.ConvTranspose2d(in_channels=in_channels, out_channels=channels, kernel_size=2, stride=2)\n",
    "        self.conv1 = conv3x3(in_channels,channels)\n",
    "        self.conv2 = conv3x3(channels,channels)\n",
    "        self.relu = nn.ReLU(inplace=True)\n",
    "    \n",
    "    def forward(self, x, cop):\n",
    "        x = self.upsampled(x)\n",
    "        n, c, h, w = x.size()\n",
    "        cop = cop[0:n,0:c,0:h,0:w]\n",
    "        x = torch.cat([cop, x], dim=1)\n",
    "        x = self.conv1(x)\n",
    "        x = self.relu(x)\n",
    "        x = self.conv2(x)\n",
    "        x = self.relu(x)\n",
    "        print(x.size())\n",
    "        \n",
    "        return x\n"
   ]
  },
  {
   "cell_type": "code",
   "execution_count": 3,
   "metadata": {},
   "outputs": [],
   "source": [
    "class UNet(nn.Module):\n",
    "    def __init__(self):\n",
    "        super(UNet, self).__init__()\n",
    "        self.contracted1 = ContractingBlock(3,64)\n",
    "        self.contracted2 = ContractingBlock(64,128)\n",
    "        self.contracted3 = ContractingBlock(128,256)\n",
    "        self.contracted4 = ContractingBlock(256,512)\n",
    "        self.bottom = ContractingBlock(512,1024)\n",
    "        self.expanded1 = ExpansiveBlock(1024,512)\n",
    "        self.expanded2 = ExpansiveBlock(512,256)\n",
    "        self.expanded3 = ExpansiveBlock(256,128)\n",
    "        self.expanded4 = ExpansiveBlock(128,64)\n",
    "        self.final = nn.Conv2d(64, 2, 1, padding=1)\n",
    "        \n",
    "    def forward(self,x):\n",
    "        con1 = self.contracted1(x, 1)\n",
    "        con2 = self.contracted2(con1)\n",
    "        con3 = self.contracted3(con2)\n",
    "        con4 = self.contracted4(con3)\n",
    "        bot = self.bottom(con4)\n",
    "        exp1 = self.expanded1(bot,con4)\n",
    "        exp2 = self.expanded2(exp1,con3)\n",
    "        exp3 = self.expanded3(exp2,con2)\n",
    "        exp4 = self.expanded4(exp3,con1)\n",
    "        fin = self.final(exp4)\n",
    "        \n",
    "        return fin\n",
    "\n",
    "unet = UNet()"
   ]
  },
  {
   "cell_type": "markdown",
   "metadata": {},
   "source": [
    "## Loss-Function\n",
    "For the loss a pixel-wise soft-max over the final feature map combined with the corss entropy loss function is computed.\n",
    "The function torch.nn.functional.corss_entropy() does exactly this."
   ]
  },
  {
   "cell_type": "code",
   "execution_count": 103,
   "metadata": {},
   "outputs": [],
   "source": [
    "def EngergyFunction(featuremap, target,weight):\n",
    "    n, c, h, w = featuremap.size()\n",
    "    featuremap = featuremap.transpose(1, 2).transpose(2, 3).contiguous().view(-1, c)\n",
    "    target = target.view(-1)\n",
    "    loss = F.cross_entropy(featuremap, target, weight=weight, reduction='elementwise_mean')\n",
    "    \n",
    "    return loss\n",
    "        "
   ]
  },
  {
   "cell_type": "markdown",
   "metadata": {},
   "source": [
    "## Optimizer\n",
    "Like described in [1] we use stochastic gradient descent with a momentum of 0.99 for optimization."
   ]
  },
  {
   "cell_type": "code",
   "execution_count": 104,
   "metadata": {},
   "outputs": [
    {
     "ename": "NameError",
     "evalue": "name 'SGD' is not defined",
     "output_type": "error",
     "traceback": [
      "\u001b[1;31m---------------------------------------------------------------------------\u001b[0m",
      "\u001b[1;31mNameError\u001b[0m                                 Traceback (most recent call last)",
      "\u001b[1;32m<ipython-input-104-be6cba59cdaa>\u001b[0m in \u001b[0;36m<module>\u001b[1;34m()\u001b[0m\n\u001b[1;32m----> 1\u001b[1;33m optimizer = SGD(\n\u001b[0m\u001b[0;32m      2\u001b[0m         \u001b[0munet\u001b[0m\u001b[1;33m.\u001b[0m\u001b[0mparameters\u001b[0m\u001b[1;33m(\u001b[0m\u001b[1;33m)\u001b[0m\u001b[1;33m,\u001b[0m\u001b[1;33m\u001b[0m\u001b[0m\n\u001b[0;32m      3\u001b[0m         \u001b[0mlr\u001b[0m\u001b[1;33m=\u001b[0m\u001b[1;36m0.01\u001b[0m\u001b[1;33m,\u001b[0m\u001b[1;33m\u001b[0m\u001b[0m\n\u001b[0;32m      4\u001b[0m         momentum=0.99)\n",
      "\u001b[1;31mNameError\u001b[0m: name 'SGD' is not defined"
     ]
    }
   ],
   "source": [
    "optimizer = SGD(\n",
    "        unet.parameters(), \n",
    "        lr=0.01,\n",
    "        momentum=0.99)"
   ]
  },
  {
   "cell_type": "markdown",
   "metadata": {},
   "source": [
    "## Dataloader"
   ]
  },
  {
   "cell_type": "code",
   "execution_count": 9,
   "metadata": {},
   "outputs": [],
   "source": [
    "def load_dataset():\n",
    "    data_path = './data/training'\n",
    "    train_dataset = torchvision.datasets.ImageFolder(\n",
    "        root=data_path,\n",
    "        transform=torchvision.transforms.ToTensor())\n",
    "    train_loader = torch.utils.data.DataLoader(\n",
    "        train_dataset,\n",
    "        batch_size=1,\n",
    "        num_workers=0,\n",
    "        shuffle=True\n",
    "    )\n",
    "    return train_loader"
   ]
  },
  {
   "cell_type": "code",
   "execution_count": 101,
   "metadata": {},
   "outputs": [],
   "source": [
    "traindata = load_dataset()\n",
    "dataiter = iter(train)\n",
    "image = dataiter.next()\n",
    "\n"
   ]
  },
  {
   "cell_type": "code",
   "execution_count": 6,
   "metadata": {},
   "outputs": [],
   "source": []
  },
  {
   "cell_type": "code",
   "execution_count": 100,
   "metadata": {},
   "outputs": [
    {
     "name": "stdout",
     "output_type": "stream",
     "text": [
      "torch.Size([1, 64, 584, 565])\n",
      "torch.Size([1, 128, 292, 282])\n",
      "torch.Size([1, 256, 146, 141])\n",
      "torch.Size([1, 512, 73, 70])\n",
      "torch.Size([1, 1024, 36, 35])\n",
      "torch.Size([1, 512, 72, 70])\n",
      "torch.Size([1, 256, 144, 140])\n",
      "torch.Size([1, 128, 288, 280])\n",
      "torch.Size([1, 64, 576, 560])\n"
     ]
    }
   ],
   "source": [
    "output = unet(image)"
   ]
  },
  {
   "cell_type": "code",
   "execution_count": 8,
   "metadata": {},
   "outputs": [
    {
     "name": "stdout",
     "output_type": "stream",
     "text": [
      "torch.Size([1, 2, 578, 562])\n"
     ]
    }
   ],
   "source": [
    "print(output.size())"
   ]
  },
  {
   "cell_type": "markdown",
   "metadata": {},
   "source": [
    "## References\n",
    "[1] U-Net: Convolutional Networks for Biomedical Image Segmentation"
   ]
  }
 ],
 "metadata": {
  "kernelspec": {
   "display_name": "Python 3",
   "language": "python",
   "name": "python3"
  },
  "language_info": {
   "codemirror_mode": {
    "name": "ipython",
    "version": 3
   },
   "file_extension": ".py",
   "mimetype": "text/x-python",
   "name": "python",
   "nbconvert_exporter": "python",
   "pygments_lexer": "ipython3",
   "version": "3.6.4"
  }
 },
 "nbformat": 4,
 "nbformat_minor": 2
}
