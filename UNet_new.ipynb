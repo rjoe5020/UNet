{
 "cells": [
  {
   "cell_type": "markdown",
   "metadata": {},
   "source": [
    "# Image segmentation (with U-Nets)\n"
   ]
  },
  {
   "cell_type": "code",
   "execution_count": 1,
   "metadata": {},
   "outputs": [],
   "source": [
    "%matplotlib inline\n",
    "import torch\n",
    "import torch.nn as nn\n",
    "import torchvision\n",
    "import torchvision.transforms as transforms\n",
    "import torch.nn.functional as F\n",
    "from torch.utils import data\n",
    "import torch.optim as optim\n",
    "from os import listdir\n",
    "import skimage\n",
    "from skimage import io\n",
    "import matplotlib.pyplot as plt\n",
    "import numpy as np\n",
    "from PIL import Image\n",
    "import scipy.misc as m"
   ]
  },
  {
   "cell_type": "markdown",
   "metadata": {},
   "source": [
    "## U-Net Architecture\n",
    "![architecture](.\\architecture.png \"UNet architecture\")\n",
    "\n",
    "### Contracting Path\n",
    "It consits of 4 blocks and every block has the same architecture (typical architecture of a concolutional network)\n",
    "1. Two 3x3 unpadded convolutions each followed by a rectified linear unit\n",
    "    - because its is unpadded we loss with every convolution 2 pixels in each dimension\n",
    "2. 2x2 max pooling operations with stride 2\n",
    "    - with this setting the image get downsampled by a factor of 2\n",
    "\n",
    "They start with 64 feature channels (filters) at the first block and with each block they double the number of feature channels\n",
    "\n",
    "The output of the last block will be sended through two convoltuion layers (3x3) each followed by a ReLU, because of the doubling of the feature channels the resulting feature map for each layer is 1024 dimensional.\n",
    "\n",
    "### Expansive Path\n",
    "Its symetric to the contracting path, so again 4 blocks. However the architecture changes slightly\n",
    "1. Upsampling by a 2x2 up-convolution (that halves the number of feature channels)\n",
    "2. Copy a cropped version of the feature map from the corresponding feature map of the contracting path and concatenate with the upsampled feature map\n",
    "    - The cropping is necessary due to the loss of border pixels in every convolution\n",
    "3. Two 3x3 unpadded convolutions each followed by a rectified linear unit\n",
    "\n",
    "At the final layer a 1x1 convolution is used to map each 64-component feature vector to the desired number of classes (in our case 2 classes). \n",
    "\n",
    "In total the network has 23 convolutional layers. (2\\*4 (Contracting Path) + 2 (last layer) + 3\\*4 (Expansive Path) + 1 (final layer))"
   ]
  },
  {
   "cell_type": "code",
   "execution_count": 2,
   "metadata": {},
   "outputs": [],
   "source": [
    "# because 18 of the 23 convolutional layers uses the same setting, we defined a own function for this\n",
    "def conv3x3(_input, output):\n",
    "    return nn.Conv2d(_input, output, 3, padding=1)\n",
    "\n",
    "def conv_upsample(in_channels,channels,i):\n",
    "    # a = (i+2p-k)mod s\n",
    "    s = 2\n",
    "    k = 2\n",
    "    p = 0\n",
    "    a = np.mod(i+2*p-k,s)\n",
    "    return nn.ConvTranspose2d(in_channels=in_channels, out_channels=channels, kernel_size=k, stride=s, output_padding=a)\n",
    "\n",
    "\n",
    "# define block of contracting path\n",
    "class ContractingBlock(nn.Module):\n",
    "    def __init__(self,in_channels,channels):\n",
    "        super(ContractingBlock, self).__init__()\n",
    "        # for the first conv layer the number of input channels are the number of channels from the previous block and they will be doubled (first block starts with 64) \n",
    "        self.conv1 = conv3x3(in_channels,channels)\n",
    "        self.conv2 = conv3x3(channels,channels)\n",
    "        self.relu = nn.ReLU(inplace=True)\n",
    "        self.downsample_block = nn.MaxPool2d(kernel_size=2, stride=2)\n",
    "        \n",
    "    def forward(self, x, isInitBlock = 0):\n",
    "        if not isInitBlock:\n",
    "            x = self.downsample_block(x)\n",
    "        \n",
    "        x = self.conv1(x)\n",
    "        x = self.relu(x)\n",
    "        x = self.conv2(x)\n",
    "        x = self.relu(x)\n",
    "        #print(x.size())\n",
    "        \n",
    "        return x\n",
    "\n",
    "# define block of expansive path\n",
    "class ExpansiveBlock(nn.Module):\n",
    "    def __init__(self, in_channels, channels,target_size):\n",
    "        super(ExpansiveBlock, self).__init__()\n",
    "        self.upsampled = conv_upsample(in_channels, channels,target_size)\n",
    "        self.conv1 = conv3x3(in_channels,channels)\n",
    "        self.conv2 = conv3x3(channels,channels)\n",
    "        self.relu = nn.ReLU(inplace=True)\n",
    "    \n",
    "    def forward(self, x, cop):\n",
    "        x = self.upsampled(x)\n",
    "        #n, c, h, w = x.size()\n",
    "        #cop = cop[0:n,0:c,0:h,0:w]\n",
    "        x = torch.cat([cop, x], dim=1)\n",
    "        x = self.conv1(x)\n",
    "        x = self.relu(x)\n",
    "        x = self.conv2(x)\n",
    "        x = self.relu(x)\n",
    "        #print(x.size())\n",
    "        \n",
    "        return x\n"
   ]
  },
  {
   "cell_type": "code",
   "execution_count": 3,
   "metadata": {},
   "outputs": [],
   "source": [
    "class UNet(nn.Module):\n",
    "    def __init__(self):\n",
    "        super(UNet, self).__init__()\n",
    "        self.contracted1 = ContractingBlock(3,64)\n",
    "        self.contracted2 = ContractingBlock(64,128)\n",
    "        self.contracted3 = ContractingBlock(128,256)\n",
    "        self.contracted4 = ContractingBlock(256,512)\n",
    "        self.bottom = ContractingBlock(512,1024)\n",
    "        self.expanded1 = ExpansiveBlock(1024,512,36)\n",
    "        self.expanded2 = ExpansiveBlock(512,256,73)\n",
    "        self.expanded3 = ExpansiveBlock(256,128,146)\n",
    "        self.expanded4 = ExpansiveBlock(128,64,292)\n",
    "        self.final = nn.Conv2d(64, 2, 1, padding=0)\n",
    "        \n",
    "    def forward(self,x):\n",
    "        con1 = self.contracted1(x, 1)\n",
    "        con2 = self.contracted2(con1)\n",
    "        con3 = self.contracted3(con2)\n",
    "        con4 = self.contracted4(con3)\n",
    "        bot = self.bottom(con4)\n",
    "        exp1 = self.expanded1(bot,con4)\n",
    "        exp2 = self.expanded2(exp1,con3)\n",
    "        exp3 = self.expanded3(exp2,con2)\n",
    "        exp4 = self.expanded4(exp3,con1)\n",
    "        fin = self.final(exp4)\n",
    "        \n",
    "        return fin\n",
    "\n",
    "unet = UNet()#.to(device)"
   ]
  },
  {
   "cell_type": "markdown",
   "metadata": {},
   "source": [
    "## Loss-Function\n",
    "For the loss a pixel-wise soft-max over the final feature map combined with the corss entropy loss function is computed.\n",
    "The function torch.nn.functional.corss_entropy() does exactly this."
   ]
  },
  {
   "cell_type": "code",
   "execution_count": 34,
   "metadata": {},
   "outputs": [],
   "source": [
    "def EngergyFunction(featuremap, target):\n",
    "    featuremap = featuremap.transpose(1, 2).transpose(2, 3).contiguous().view(-1, 2)\n",
    "    #target = target/255\n",
    "    #target = target+1\n",
    "    target = target.contiguous().view(-1)\n",
    "    loss = F.cross_entropy(featuremap, target, reduction='elementwise_mean', weight = torch.tensor([1., 2.75]))\n",
    "    # weight = 2.75 -> just black, weight = 3.5 -> mask\n",
    "    return loss\n",
    "        "
   ]
  },
  {
   "cell_type": "markdown",
   "metadata": {},
   "source": [
    "## Optimizer\n",
    "Like described in [1] we use stochastic gradient descent with a momentum of 0.99 for optimization."
   ]
  },
  {
   "cell_type": "code",
   "execution_count": 5,
   "metadata": {},
   "outputs": [],
   "source": [
    "optimizer = optim.SGD(\n",
    "        unet.parameters(), \n",
    "        lr=0.01,weight_decay=0.0005,\n",
    "        momentum=0.99)"
   ]
  },
  {
   "cell_type": "markdown",
   "metadata": {},
   "source": [
    "## Dataloader"
   ]
  },
  {
   "cell_type": "code",
   "execution_count": 6,
   "metadata": {},
   "outputs": [],
   "source": [
    "def dataLister(image_path,label_path):\n",
    "    data = listdir(image_path)\n",
    "    labels = listdir(label_path)    \n",
    "    combined = list()\n",
    "    for d, l in zip(data, labels):\n",
    "        combined.append((image_path + d, label_path + l))\n",
    "        \n",
    "    return combined"
   ]
  },
  {
   "cell_type": "code",
   "execution_count": 7,
   "metadata": {},
   "outputs": [],
   "source": [
    "class SegmentationDataset(data.Dataset):\n",
    "    def __init__(self, datalist):\n",
    "        self.datalist = datalist\n",
    "        self.mean = np.array([104.00699, 116.66877, 122.67892])\n",
    "        \n",
    "    def __len__(self):\n",
    "        return len(self.datalist)\n",
    "    \n",
    "    def __getitem__(self, index):\n",
    "        image = Image.open(self.datalist[index][0])\n",
    "        image = np.array(image, dtype=np.uint8)\n",
    "        label = Image.open(self.datalist[index][1])\n",
    "        label = np.array(label, dtype=np.uint8)\n",
    "        image,label = self.transform(image,label)\n",
    "        # padding for quadratic input\n",
    "        image = F.pad(image, (10,0), 'constant', 0)\n",
    "        label = F.pad(label, (10,0), 'constant', 0)\n",
    "        #print(image.size())\n",
    "        return image,label\n",
    "    \n",
    "    def transform(self, image, label):\n",
    "        image = m.imresize(image, (292,282))\n",
    "        label = m.imresize(label, (292,282))\n",
    "        # make sure that there are only 0 and 1 in the label\n",
    "        mask = np.full((292, 282), 1)\n",
    "        label = np.logical_and(label, mask)\n",
    "        label = label.astype(int)\n",
    "        #print(image.shape)\n",
    "        image = image[:, :, ::-1]  # RGB -> BGR????\n",
    "        image = image.astype(np.float64)\n",
    "        image -= self.mean\n",
    "        image = image.astype(float) / 255.0\n",
    "        image = image.transpose(2, 0, 1)\n",
    "        image = torch.from_numpy(image).float()\n",
    "        label = torch.from_numpy(label).long()\n",
    "        return image,label\n",
    "\n",
    "train_image_path = './data/training_copy/images/'\n",
    "train_label_path = './data/training_copy/1st_manual/'\n",
    "test_image_path = './data/test/images/'\n",
    "test_label_path = './data/test/1st_manual/'\n",
    "trainlist = dataLister(train_image_path,train_label_path)\n",
    "train_dataset = SegmentationDataset(trainlist)\n",
    "train_loader = data.DataLoader(train_dataset, batch_size=1, shuffle=True)\n",
    "testlist = dataLister(test_image_path,test_label_path)\n",
    "test_dataset = SegmentationDataset(testlist)\n",
    "test_loader = data.DataLoader(test_dataset, batch_size=1, shuffle=True)"
   ]
  },
  {
   "cell_type": "code",
   "execution_count": 15,
   "metadata": {},
   "outputs": [],
   "source": [
    "def imshow(img):\n",
    "    npimg = img.numpy()\n",
    "    npimg = np.transpose(npimg, (1, 2, 0))\n",
    "    npimg = np.reshape(npimg, (292, 292))\n",
    "    plt.imshow(npimg)\n",
    "    plt.show()"
   ]
  },
  {
   "cell_type": "markdown",
   "metadata": {},
   "source": [
    "## Train Network"
   ]
  },
  {
   "cell_type": "code",
   "execution_count": 32,
   "metadata": {
    "scrolled": true
   },
   "outputs": [
    {
     "name": "stderr",
     "output_type": "stream",
     "text": [
      "C:\\Users\\Matthias\\Anaconda3\\lib\\site-packages\\ipykernel_launcher.py:22: DeprecationWarning: `imresize` is deprecated!\n",
      "`imresize` is deprecated in SciPy 1.0.0, and will be removed in 1.2.0.\n",
      "Use ``skimage.transform.resize`` instead.\n",
      "C:\\Users\\Matthias\\Anaconda3\\lib\\site-packages\\ipykernel_launcher.py:23: DeprecationWarning: `imresize` is deprecated!\n",
      "`imresize` is deprecated in SciPy 1.0.0, and will be removed in 1.2.0.\n",
      "Use ``skimage.transform.resize`` instead.\n"
     ]
    },
    {
     "name": "stdout",
     "output_type": "stream",
     "text": [
      "0 1.5995537042617798\n",
      "1 1.5987449884414673\n",
      "2 1.597835123538971\n",
      "3 1.5894179344177246\n",
      "4 1.5807300806045532\n",
      "5 1.5715429186820984\n",
      "6 1.5675936341285706\n",
      "7 1.5684778094291687\n",
      "8 1.5738821625709534\n",
      "9 1.5753217339515686\n",
      "10 1.5818308591842651\n",
      "11 1.58468097448349\n",
      "12 1.5866286158561707\n",
      "13 1.5849884152412415\n",
      "14 1.582110971212387\n",
      "15 1.5775840878486633\n",
      "16 1.5748060941696167\n",
      "17 1.576854169368744\n",
      "18 1.573637843132019\n",
      "19 1.5759696960449219\n"
     ]
    }
   ],
   "source": [
    "losses = []\n",
    "unet.train()\n",
    "#device = torch.device(\"cuda\" if torch.cuda.is_available() else \"cpu\")\n",
    "# loss seems to converge after 1o epochs to 1.53\n",
    "for epoch in range(20):\n",
    "    epoch_loss = 0\n",
    "    for i, data in enumerate(train_loader, 0):\n",
    "        # get the inputs\n",
    "        inputs, labels = data\n",
    "        #inputs = inputs.to(device)\n",
    "        #labels = labels.to(device)\n",
    "        #imshow(labels)\n",
    "        optimizer.zero_grad()\n",
    "        \n",
    "        output = unet(inputs)\n",
    "        loss = EngergyFunction(output,labels)\n",
    "        epoch_loss += loss.item() # logging\n",
    "        \n",
    "        loss.backward()\n",
    "        optimizer.step()\n",
    "\n",
    "    losses.append(epoch_loss)\n",
    "    print(epoch,epoch_loss)    "
   ]
  },
  {
   "cell_type": "code",
   "execution_count": 33,
   "metadata": {},
   "outputs": [
    {
     "name": "stderr",
     "output_type": "stream",
     "text": [
      "C:\\Users\\Matthias\\Anaconda3\\lib\\site-packages\\ipykernel_launcher.py:22: DeprecationWarning: `imresize` is deprecated!\n",
      "`imresize` is deprecated in SciPy 1.0.0, and will be removed in 1.2.0.\n",
      "Use ``skimage.transform.resize`` instead.\n",
      "C:\\Users\\Matthias\\Anaconda3\\lib\\site-packages\\ipykernel_launcher.py:23: DeprecationWarning: `imresize` is deprecated!\n",
      "`imresize` is deprecated in SciPy 1.0.0, and will be removed in 1.2.0.\n",
      "Use ``skimage.transform.resize`` instead.\n"
     ]
    },
    {
     "data": {
      "image/png": "[encoded data removed]",
      "text/plain": [
       "<Figure size 432x288 with 1 Axes>"
      ]
     },
     "metadata": {
      "needs_background": "light"
     },
     "output_type": "display_data"
    },
    {
     "data": {
      "image/png": "[encoded data removed]",
      "text/plain": [
       "<Figure size 432x288 with 1 Axes>"
      ]
     },
     "metadata": {
      "needs_background": "light"
     },
     "output_type": "display_data"
    },
    {
     "name": "stdout",
     "output_type": "stream",
     "text": [
      "tensor(0.1943, dtype=torch.float64)\n"
     ]
    },
    {
     "data": {
      "image/png": "[encoded data removed]",
      "text/plain": [
       "<Figure size 432x288 with 1 Axes>"
      ]
     },
     "metadata": {
      "needs_background": "light"
     },
     "output_type": "display_data"
    },
    {
     "data": {
      "image/png": "[encoded data removed]",
      "text/plain": [
       "<Figure size 432x288 with 1 Axes>"
      ]
     },
     "metadata": {
      "needs_background": "light"
     },
     "output_type": "display_data"
    },
    {
     "name": "stdout",
     "output_type": "stream",
     "text": [
      "tensor(0.1261, dtype=torch.float64)\n"
     ]
    },
    {
     "data": {
      "image/png": "[encoded data removed]",
      "text/plain": [
       "<Figure size 432x288 with 1 Axes>"
      ]
     },
     "metadata": {
      "needs_background": "light"
     },
     "output_type": "display_data"
    },
    {
     "data": {
      "image/png": "[encoded data removed]",
      "text/plain": [
       "<Figure size 432x288 with 1 Axes>"
      ]
     },
     "metadata": {
      "needs_background": "light"
     },
     "output_type": "display_data"
    },
    {
     "name": "stdout",
     "output_type": "stream",
     "text": [
      "tensor(0.1573, dtype=torch.float64)\n"
     ]
    }
   ],
   "source": [
    "l = []\n",
    "unet.eval()\n",
    "#device = torch.device(\"cuda\" if torch.cuda.is_available() else \"cpu\")\n",
    "\n",
    "for i, data in enumerate(train_loader, 0):\n",
    "    # get the inputs\n",
    "    inputs, labels = data\n",
    "    #inputs = inputs.to(device)\n",
    "    #labels = labels.to(device)\n",
    "        \n",
    "    output = unet(inputs)\n",
    "    pred = output.data.max(1)[1].cpu().numpy()\n",
    "    pred = np.resize(pred,(292,292))\n",
    "    \n",
    "    pred_map = np.logical_xor(pred,labels)\n",
    "    pred_map = pred_map.type(torch.DoubleTensor)\n",
    "    loss = torch.sum(pred_map)/(292*292)\n",
    "    l.append(loss)\n",
    "    \n",
    "    plt.imshow(pred)\n",
    "    plt.show()\n",
    "\n",
    "    npimg = labels.numpy()\n",
    "    npimg = np.transpose(npimg, (1, 2, 0))\n",
    "    npimg = np.reshape(npimg, (292, 292))\n",
    "    plt.imshow(npimg)\n",
    "    plt.show()\n",
    "    \n",
    "    print(loss)  "
   ]
  },
  {
   "cell_type": "code",
   "execution_count": null,
   "metadata": {},
   "outputs": [],
   "source": [
    "unet = unet.eval()\n",
    "dataiter = iter(train_loader)\n",
    "test_input, test_label = dataiter.next()\n",
    "test_output = unet(test_input)\n",
    "EngergyFunction(test_output,test_label)\n",
    "pred = test_output.data.max(1)[1].cpu().numpy()\n",
    "pred = np.resize(pred,(292,292))"
   ]
  },
  {
   "cell_type": "code",
   "execution_count": 23,
   "metadata": {},
   "outputs": [
    {
     "data": {
      "image/png": "[encoded data removed]",
      "text/plain": [
       "<Figure size 432x288 with 1 Axes>"
      ]
     },
     "metadata": {
      "needs_background": "light"
     },
     "output_type": "display_data"
    },
    {
     "name": "stdout",
     "output_type": "stream",
     "text": [
      "torch.Size([1, 292, 292])\n",
      "(1, 292, 292)\n",
      "(292, 292)\n"
     ]
    },
    {
     "data": {
      "image/png": "[encoded data removed]",
      "text/plain": [
       "<Figure size 432x288 with 1 Axes>"
      ]
     },
     "metadata": {
      "needs_background": "light"
     },
     "output_type": "display_data"
    }
   ],
   "source": [
    "plt.imshow(pred)\n",
    "plt.show()\n",
    "print(labels.size())\n",
    "npimg = labels.numpy()\n",
    "print(npimg.shape)\n",
    "npimg = np.transpose(npimg, (1, 2, 0))\n",
    "npimg = np.reshape(npimg, (292, 292))\n",
    "print(npimg.shape)\n",
    "plt.imshow(npimg)\n",
    "plt.show()"
   ]
  },
  {
   "cell_type": "markdown",
   "metadata": {},
   "source": [
    "## References\n",
    "[1] U-Net: Convolutional Networks for Biomedical Image Segmentation"
   ]
  }
 ],
 "metadata": {
  "kernelspec": {
   "display_name": "Python 3",
   "language": "python",
   "name": "python3"
  },
  "language_info": {
   "codemirror_mode": {
    "name": "ipython",
    "version": 3
   },
   "file_extension": ".py",
   "mimetype": "text/x-python",
   "name": "python",
   "nbconvert_exporter": "python",
   "pygments_lexer": "ipython3",
   "version": "3.7.1"
  }
 },
 "nbformat": 4,
 "nbformat_minor": 2
}
